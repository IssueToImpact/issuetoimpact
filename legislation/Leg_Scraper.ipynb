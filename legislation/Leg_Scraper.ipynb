{
 "cells": [
  {
   "cell_type": "code",
   "execution_count": 1,
   "metadata": {},
   "outputs": [],
   "source": [
    "import bs4\n",
    "import requests\n",
    "import html5lib"
   ]
  },
  {
   "cell_type": "code",
   "execution_count": 2,
   "metadata": {},
   "outputs": [],
   "source": [
    "base_url = \"http://www.ilga.gov\""
   ]
  },
  {
   "cell_type": "code",
   "execution_count": 3,
   "metadata": {},
   "outputs": [],
   "source": [
    "leg_url = base_url + \"/legislation/\""
   ]
  },
  {
   "cell_type": "code",
   "execution_count": 4,
   "metadata": {},
   "outputs": [
    {
     "name": "stdout",
     "output_type": "stream",
     "text": [
      "http://www.ilga.gov/legislation/\n"
     ]
    }
   ],
   "source": [
    "print(leg_url)"
   ]
  },
  {
   "cell_type": "code",
   "execution_count": 5,
   "metadata": {},
   "outputs": [],
   "source": [
    "r = requests.get(leg_url)"
   ]
  },
  {
   "cell_type": "code",
   "execution_count": 6,
   "metadata": {},
   "outputs": [],
   "source": [
    "html_text = r.text.encode('iso-8859-1')"
   ]
  },
  {
   "cell_type": "code",
   "execution_count": 7,
   "metadata": {},
   "outputs": [],
   "source": [
    "soup = bs4.BeautifulSoup(html_text, \"html5lib\")"
   ]
  },
  {
   "cell_type": "code",
   "execution_count": 8,
   "metadata": {},
   "outputs": [],
   "source": [
    "links = soup.find_all(\"a\")"
   ]
  },
  {
   "cell_type": "code",
   "execution_count": 9,
   "metadata": {},
   "outputs": [],
   "source": [
    "mid_links = []\n",
    "for a in links:\n",
    "    if a.has_attr(\"href\") and a['href'].startswith('grplist.asp'):\n",
    "        mid_url = leg_url + a['href']\n",
    "        mid_r = requests.get(mid_url)\n",
    "        mid_html_text = mid_r.text.encode('iso-8859-1')\n",
    "        mid_soup = bs4.BeautifulSoup(mid_html_text, \"html5lib\")\n",
    "        mid_links.extend(mid_soup.find_all(\"a\"))\n",
    "        "
   ]
  },
  {
   "cell_type": "code",
   "execution_count": 10,
   "metadata": {},
   "outputs": [],
   "source": [
    "sbill_links = []\n",
    "hbill_links = []\n",
    "for mid_a in mid_links:\n",
    "    if mid_a.text.startswith(\"SB\"):\n",
    "        bill_url = base_url + mid_a['href']\n",
    "        sbill_links.append(bill_url)\n",
    "    elif mid_a.text.startswith(\"HB\"):\n",
    "        bill_url = base_url + mid_a['href']\n",
    "        hbill_links.append(bill_url)"
   ]
  },
  {
   "cell_type": "code",
   "execution_count": 11,
   "metadata": {},
   "outputs": [
    {
     "data": {
      "text/plain": [
       "3896"
      ]
     },
     "execution_count": 11,
     "metadata": {},
     "output_type": "execute_result"
    }
   ],
   "source": [
    "len(sbill_links)"
   ]
  },
  {
   "cell_type": "code",
   "execution_count": 12,
   "metadata": {},
   "outputs": [
    {
     "data": {
      "text/plain": [
       "5668"
      ]
     },
     "execution_count": 12,
     "metadata": {},
     "output_type": "execute_result"
    }
   ],
   "source": [
    "len(hbill_links)"
   ]
  },
  {
   "cell_type": "code",
   "execution_count": 13,
   "metadata": {},
   "outputs": [],
   "source": [
    "r_test = requests.get(sbill_links[0])\n",
    "html_test = r_test.text.encode('iso-8859-1')\n",
    "soup_test = bs4.BeautifulSoup(html_test, \"html5lib\")"
   ]
  },
  {
   "cell_type": "code",
   "execution_count": 15,
   "metadata": {},
   "outputs": [
    {
     "data": {
      "text/plain": [
       "[<span class=\"close\">×</span>,\n",
       " <span style=\"white-space: nowrap\"><a class=\"goog-logo-link\" href=\"https://translate.google.com\" target=\"_blank\"><img alt=\"Google Translate\" height=\"14\" src=\"https://www.gstatic.com/images/branding/googlelogo/1x/googlelogo_color_42x16dp.png\" style=\"padding-right: 3px;\" width=\"37\"/>Translate</a></span>,\n",
       " <span class=\"heading\">Bill Status of SB0001</span>,\n",
       " <span class=\"content\"><i>101st General Assembly</i></span>,\n",
       " <span class=\"heading2\">Short Description:</span>,\n",
       " <span class=\"content\">MINIMUM WAGE/INCOME TAX CREDIT</span>,\n",
       " <span class=\"heading2\">Senate Sponsors</span>,\n",
       " <span class=\"content\">Sen. </span>,\n",
       " <span class=\"content\"> and </span>,\n",
       " <span class=\"heading2\">House Sponsors</span>,\n",
       " <span class=\"content\">(Rep. </span>,\n",
       " <span class=\"content\"> and </span>,\n",
       " <span class=\"heading2\">Last Action</span>,\n",
       " <span class=\"heading2\">Statutes Amended In Order of Appearance</span>,\n",
       " <span class=\"heading2\">Synopsis As Introduced</span>,\n",
       " <span class=\"content notranslate\">     Amends the Minimum Wage Law. Makes a technical change in a Section concerning the short title.</span>,\n",
       " <span class=\"content notranslate\">Replaces everything after the enacting clause. Amends the Illinois Income Tax Act and the Minimum Wage Law. Provides for an increase in the minimum wage and for a credit against withholding payments in relation to the increase. Increases the minimum wage to $9.25 per hour beginning January 1, 2020. Provides for annual increases in the minimum wage culminating in a minimum wage of $15 per hour beginning on January 1, 2025. Provides to employers with 50 or fewer full-time equivalent employees a credit against tax withheld beginning January 1, 2020. Reduces the credit beginning January 1, 2021. Provides employers may claim the credit amount in effect on January 1, 2025 until December 31, 2026 and that employers with no more than 5 employees may claim that credit until December 31, 2027. Authorizes the Department of Labor to perform random audits of employer to ascertain compliance with the Minimum Wage Law. Authorizes a penalty of $100 per employee for failure to maintain required records. Effective immediately.</span>,\n",
       " <span class=\"heading2\">Actions</span>]"
      ]
     },
     "execution_count": 15,
     "metadata": {},
     "output_type": "execute_result"
    }
   ],
   "source": [
    "bill_info = {}\n",
    "soup_test.find_all(\"span\")"
   ]
  },
  {
   "cell_type": "code",
   "execution_count": null,
   "metadata": {},
   "outputs": [],
   "source": []
  }
 ],
 "metadata": {
  "kernelspec": {
   "display_name": "Python (IssuetoImpact)",
   "language": "python",
   "name": "issuetoimpact"
  },
  "language_info": {
   "codemirror_mode": {
    "name": "ipython",
    "version": 3
   },
   "file_extension": ".py",
   "mimetype": "text/x-python",
   "name": "python",
   "nbconvert_exporter": "python",
   "pygments_lexer": "ipython3",
   "version": "3.7.6"
  }
 },
 "nbformat": 4,
 "nbformat_minor": 4
}
