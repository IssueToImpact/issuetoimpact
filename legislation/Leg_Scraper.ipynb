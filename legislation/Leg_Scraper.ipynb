{
 "cells": [
  {
   "cell_type": "code",
   "execution_count": 438,
   "metadata": {},
   "outputs": [],
   "source": [
    "import bs4\n",
    "import requests\n",
    "import html5lib\n",
    "import time\n",
    "import json"
   ]
  },
  {
   "cell_type": "code",
   "execution_count": 409,
   "metadata": {},
   "outputs": [],
   "source": [
    "base_url = \"http://www.ilga.gov\""
   ]
  },
  {
   "cell_type": "code",
   "execution_count": 410,
   "metadata": {},
   "outputs": [],
   "source": [
    "leg_url = base_url + \"/legislation/\""
   ]
  },
  {
   "cell_type": "code",
   "execution_count": 411,
   "metadata": {},
   "outputs": [
    {
     "name": "stdout",
     "output_type": "stream",
     "text": [
      "http://www.ilga.gov/legislation/\n"
     ]
    }
   ],
   "source": [
    "print(leg_url)"
   ]
  },
  {
   "cell_type": "code",
   "execution_count": 412,
   "metadata": {},
   "outputs": [],
   "source": [
    "r = requests.get(leg_url)"
   ]
  },
  {
   "cell_type": "code",
   "execution_count": 413,
   "metadata": {},
   "outputs": [],
   "source": [
    "html_text = r.text.encode('iso-8859-1')"
   ]
  },
  {
   "cell_type": "code",
   "execution_count": 414,
   "metadata": {},
   "outputs": [],
   "source": [
    "soup = bs4.BeautifulSoup(html_text, \"html5lib\")"
   ]
  },
  {
   "cell_type": "code",
   "execution_count": 415,
   "metadata": {},
   "outputs": [],
   "source": [
    "links = soup.find_all(\"a\")"
   ]
  },
  {
   "cell_type": "code",
   "execution_count": 416,
   "metadata": {},
   "outputs": [],
   "source": [
    "mid_links = []\n",
    "for a in links:\n",
    "    if a.has_attr(\"href\") and a['href'].startswith('grplist.asp'):\n",
    "        mid_url = leg_url + a['href']\n",
    "        mid_r = requests.get(mid_url)\n",
    "        mid_html_text = mid_r.text.encode('iso-8859-1')\n",
    "        mid_soup = bs4.BeautifulSoup(mid_html_text, \"html5lib\")\n",
    "        mid_links.extend(mid_soup.find_all(\"a\"))\n",
    "        "
   ]
  },
  {
   "cell_type": "code",
   "execution_count": 417,
   "metadata": {},
   "outputs": [],
   "source": [
    "sbill_links = []\n",
    "hbill_links = []\n",
    "for mid_a in mid_links:\n",
    "    if mid_a.text.startswith(\"SB\"):\n",
    "        bill_url = base_url + mid_a['href']\n",
    "        sbill_links.append(bill_url)\n",
    "    elif mid_a.text.startswith(\"HB\"):\n",
    "        bill_url = base_url + mid_a['href']\n",
    "        hbill_links.append(bill_url)"
   ]
  },
  {
   "cell_type": "code",
   "execution_count": 418,
   "metadata": {},
   "outputs": [
    {
     "data": {
      "text/plain": [
       "3898"
      ]
     },
     "execution_count": 418,
     "metadata": {},
     "output_type": "execute_result"
    }
   ],
   "source": [
    "len(sbill_links)"
   ]
  },
  {
   "cell_type": "code",
   "execution_count": 419,
   "metadata": {},
   "outputs": [
    {
     "data": {
      "text/plain": [
       "5669"
      ]
     },
     "execution_count": 419,
     "metadata": {},
     "output_type": "execute_result"
    }
   ],
   "source": [
    "len(hbill_links)"
   ]
  },
  {
   "cell_type": "code",
   "execution_count": 420,
   "metadata": {},
   "outputs": [],
   "source": [
    "r_test = requests.get(sbill_links[0])\n",
    "html_test = r_test.text.encode('iso-8859-1')\n",
    "soup_test = bs4.BeautifulSoup(html_test, \"html5lib\")"
   ]
  },
  {
   "cell_type": "code",
   "execution_count": 421,
   "metadata": {},
   "outputs": [
    {
     "data": {
      "text/plain": [
       "<html lang=\"en\"><!-- Trigger/Open The Modal --><head></head><body alink=\"#9933FF\" bgcolor=\"#FFFFFF\" leftmargin=\"0\" link=\"#3366FF\" onload=\"document.NumString.NumSearch.focus();\" text=\"#000000\" topmargin=\"0\" vlink=\"#663366\"><div style=\"position: fixed; z-index: 999; top: 5; left: 600; background-color: navy; display: block\">\n",
       "<button id=\"myBtn\" style=\"color: white; background-color: navy; display: block\">Translate Website</button></div>\n",
       "<!-- The Modal -->\n",
       "<div class=\"modal\" id=\"myModal\" style=\"display: none\">\n",
       "  <!-- Modal content -->\n",
       "  <div class=\"modal-content\">\n",
       "      <div class=\"modal-header\"><h3>\n",
       "    <span class=\"close\">×</span></h3></div>    \n",
       "    <p>The Illinois General Assembly offers the Google Translate™ service for visitor convenience. In no way should it be considered accurate as to the translation of any content herein.</p>\n",
       "    <p>Visitors of the Illinois General Assembly website are encouraged to use other translation services available on the internet.</p>\n",
       "    <p>The English language version is always the official and authoritative version of this website.</p>\n",
       "    <p>NOTE: To return to the original English language version, select the \"Show Original\" button on the Google Translate™ menu bar at the top of the window.</p>  \n",
       "      <div style=\"text-align: center\">Powered by <span style=\"white-space: nowrap\"><a class=\"goog-logo-link\" href=\"https://translate.google.com\" target=\"_blank\"><img alt=\"Google Translate\" height=\"14\" src=\"https://www.gstatic.com/images/branding/googlelogo/1x/googlelogo_color_42x16dp.png\" style=\"padding-right: 3px;\" width=\"37\"/>Translate</a></span></div>\n",
       "             <div id=\"google_translate_element\" style=\"text-align: center\"></div><br/><br/>             \n",
       "       <div class=\"modal-footer\">\n",
       "          <h4></h4>\n",
       "      </div>\n",
       "  </div>\n",
       "</div>    \n",
       "\n",
       "<script type=\"text/javascript\">\n",
       "    function googleTranslateWidgetInit() {\n",
       "        new google.translate.TranslateElement({ pageLanguage: 'en', layout: google.translate.TranslateElement.InlineLayout.SIMPLE, autoDisplay: false }, 'google_translate_element');\n",
       "    }\n",
       "</script><script src=\"//translate.google.com/translate_a/element.js?cb=googleTranslateWidgetInit\" type=\"text/javascript\"></script> \n",
       "<script type=\"text/javascript\">\n",
       "    // Get the modal\n",
       "    var modal = document.getElementById('myModal');\n",
       "    // Get the button that opens the modal\n",
       "    var btn = document.getElementById(\"myBtn\");\n",
       "    // Get the <span> element that closes the modal\n",
       "    var span = document.getElementsByClassName(\"close\")[0];\n",
       "    // When the user clicks on the button, open the modal \n",
       "    btn.onclick = function () {\n",
       "        modal.style.display = \"block\";\n",
       "    }\n",
       "    // When the user clicks on <span> (x), close the modal\n",
       "    span.onclick = function () {\n",
       "        modal.style.display = \"none\";\n",
       "    }\n",
       "    // When the user clicks anywhere outside of the modal, close it\n",
       "    window.onclick = function (event) {\n",
       "        if (event.target == modal) {\n",
       "            modal.style.display = \"none\";\n",
       "        }\n",
       "    }\n",
       "</script>\n",
       "\n",
       "<div id=\"divBackground\" style=\"position: fixed; z-index: 999; height: 100%; width: 100%; top: 0; left:0; background-color: Black; filter: alpha(opacity=60); opacity: 0.6; -moz-opacity: 0.8;display:none\">\n",
       "</div>\n",
       "\n",
       "\n",
       "\n",
       "<link href=\"/style/lis.css\" rel=\"stylesheet\" type=\"text/css\"/>\n",
       "<link href=\"/style/print.css\" media=\"print\" rel=\"stylesheet\" type=\"text/css\"/>\n",
       "<link href=\"http://info.er.usgs.gov/public/gils/gilsexec.html\" rel=\"GILS\"/>\n",
       "<link href=\"/LISlogo1.ico\" rel=\"Shortcut Icon\"/>\n",
       "<script language=\"JavaScript\" type=\"text/javascript\">\n",
       "<!--\n",
       "\n",
       "if(window.event + \"\" == \"undefined\") event = null;\n",
       "function HM_f_PopUp(){return false};\n",
       "function HM_f_PopDown(){return false};\n",
       "popUp = HM_f_PopUp;\n",
       "popDown = HM_f_PopDown;\n",
       "\n",
       "//-->\n",
       "</script>\n",
       "  \n",
       "<!--\n",
       "    option explicit\n",
       "  -->\n",
       "<meta content='(PICS-1.1 \"http://www.weburbia.com/safe/ratings.htm\" l r (s 0))' http-equiv=\"PICS-Label\"/>\n",
       "<meta content=\"Government\" name=\"classification\"/>\n",
       "<meta content=\"Global\" name=\"distribution\"/>\n",
       "<meta content=\"General\" name=\"rating\"/>\n",
       "<meta content=\"IL\" name=\"contactState\"/>\n",
       "<meta content=\"Illinois General Assembly\" name=\"siteTitle\"/>\n",
       "<meta content=\"Illinois General Assembly, legislation, bill status\" name=\"keywords\"/>\n",
       "<meta content=\"Bill Status - Illinois General Assembly\" name=\"description\"/>\n",
       "<meta content=\"3/21/2001\" name=\"createDate\"/>\n",
       "<meta content=\"3/21/2001\" name=\"dateofLastModification\"/>\n",
       "<meta content=\"2001-2002\" name=\"timePeriodTextual\"/>\n",
       "<meta content=\"0000001\" name=\"originalControlIdentifier\"/>\n",
       "<meta content=\"Web Site\" name=\"medium\"/>\n",
       "<meta content=\"yes\" name=\"PermanentPublicAccess\"/>\n",
       "<meta content=\"Illinois General Assembly\" name=\"agencyProgram\"/>\n",
       "<meta content=\"\" name=\"linkage\"/>\n",
       "<meta content=\"EN\" name=\"language\"/>\n",
       "<meta content=\"State\" name=\"govType\"/>\n",
       "<meta content=\"Legislative Information System\" name=\"contactName\"/>\n",
       "<meta content=\"LIS Staff Services\" name=\"contactOrganization\"/>\n",
       "<meta content=\"705 Stratton Office Building\" name=\"contactStreetAddress1\"/>\n",
       "<meta content=\"\" name=\"contactStreetAddress2\"/>\n",
       "<meta content=\"Springfield\" name=\"contactCity\"/>\n",
       "<meta content=\"62706\" name=\"contactZipcode\"/>\n",
       "<meta content=\"webmaster@ilga.gov\" name=\"contactNetworkAddress\"/>\n",
       "<meta content=\"217-782-3944\" name=\"contactPhoneNumber\"/>\n",
       "<meta content=\"217-524-6059\" name=\"contactFaxNumber\"/>\n",
       "<meta content=\"State Of Illinois\" name=\"originatorJurisdiction\"/>\n",
       "<meta content=\"Illinois General Assembly\" name=\"originatorOffice\"/>\n",
       "<meta content=\"Legislative Information System\" name=\"originatorDepartment\"/>\n",
       "<meta content=\"Web Staff\" name=\"originatorDivision\"/>\n",
       "<meta content=\"\" name=\"originatorSection\"/>\n",
       "<meta content=\"Government--State Government--Illinois General Assembly\" name=\"Classification\"/>\n",
       "\n",
       "<title>Illinois General Assembly - Bill Status for SB0001</title>\n",
       "<!-- Begin Body Start -->\n",
       "\n",
       "\n",
       "\n",
       "<script language=\"JavaScript1.2\" src=\"/include/script/HM_Loader.js\" type=\"text/javascript\"></script>\n",
       "\n",
       "<table align=\"left\" border=\"0\" cellpadding=\"0\" cellspacing=\"0\" width=\"100%\">\n",
       "<tbody><tr id=\"Legislation\">\n",
       "    <td colspan=\"4\"><a href=\"/default.asp\"><img alt=\"Illinois General Assembly\" border=\"0\" height=\"49\" src=\"/images/logo_sm.gif\" width=\"462\"/></a>\n",
       "    </td>\n",
       "    </tr>\n",
       "    <tr>\n",
       "      <td align=\"left\" colspan=\"4\" valign=\"top\">\n",
       "        <table border=\"0\" cellspacing=\"0\" class=\"mainmenu\" width=\"100%\">\n",
       "<tbody><tr id=\"Legislation\">\n",
       "            <td height=\"25\" nowrap=\"\">  <a class=\"mainmenu\" href=\"/\">Home</a>  </td>\n",
       "            <td height=\"25\" nowrap=\"\">  <a class=\"mainmenu\" href=\"/legislation/\" onblur=\"HM_f_PopDown('elMenu1')\" onfocus=\"HM_f_PopUp('elMenu1',event)\" onmouseout=\"HM_f_PopDown('elMenu1')\" onmouseover=\"HM_f_PopUp('elMenu1',event)\">Legislation &amp; Laws</a>  </td>\n",
       "            <td height=\"25\" nowrap=\"\">  <a class=\"mainmenu\" href=\"/senate/\" onblur=\"HM_f_PopDown('elMenu3')\" onfocus=\"HM_f_PopUp('elMenu3',event)\" onmouseout=\"HM_f_PopDown('elMenu3')\" onmouseover=\"HM_f_PopUp('elMenu3',event)\">Senate</a>  </td>\n",
       "            <td height=\"25\" nowrap=\"\">  <a class=\"mainmenu\" href=\"/house/\" onblur=\"HM_f_PopDown('elMenu2')\" onfocus=\"HM_f_PopUp('elMenu2',event)\" onmouseout=\"HM_f_PopDown('elMenu2')\" onmouseover=\"HM_f_PopUp('elMenu2',event)\">House</a>  </td>\n",
       "            <td height=\"25\" nowrap=\"\">  <a class=\"mainmenu\" href=\"/mylegislation/\" onblur=\"HM_f_PopDown('elMenu4')\" onfocus=\"HM_f_PopUp('elMenu4',event)\" onmouseout=\"HM_f_PopDown('elMenu4')\" onmouseover=\"HM_f_PopUp('elMenu4',event)\">My Legislation</a>  </td>\n",
       "            <td height=\"25\" nowrap=\"\">  <a class=\"mainmenu\" href=\"/sitemap.asp\">Site Map</a>  </td>\n",
       "            <td align=\"right\" height=\"25\" width=\"99%\">\n",
       "             \n",
       "            </td>\n",
       "          </tr>\n",
       "        </tbody></table>\n",
       "      </td>\n",
       "    </tr>\n",
       "    <tr>\n",
       "     <td valign=\"top\"><br/>\n",
       "<table border=\"0\" cellpadding=\"0\" cellspacing=\"2\" class=\"sidemenu\" id=\"Legislation\" width=\"140\"><tbody><tr><td class=\"sidemenu\" nowrap=\"\"><b><a class=\"sidemenu\" href=\"/legislation/default.asp\">  Bills &amp; Resolutions  </a></b></td></tr><tr><td class=\"sidemenu\" nowrap=\"\"><a class=\"sidemenu\" href=\"/legislation/ilcs/ilcs.asp\">  Compiled Statutes  </a></td></tr><tr><td class=\"sidemenu\" nowrap=\"\"><a class=\"sidemenu\" href=\"/legislation/publicacts/default.asp\">  Public Acts  </a></td></tr><tr><td class=\"sidemenu\" nowrap=\"\"><a class=\"sidemenu\" href=\"/reports/default.asp\">  Legislative Reports  </a></td></tr><tr><td class=\"sidemenu\" nowrap=\"\"><a class=\"sidemenu\" href=\"/commission/lrb/conmain.htm\">  IL Constitution  </a></td></tr><tr><td class=\"sidemenu\" nowrap=\"\"><a class=\"sidemenu\" href=\"/legislation/guide.asp\">  Legislative Guide  </a></td></tr><tr><td class=\"sidemenu\" nowrap=\"\"><a class=\"sidemenu\" href=\"/legislation/glossary.asp\">  Legislative Glossary  </a></td></tr><tr><td class=\"sidemenu\" nowrap=\"\" width=\"90%\"></td>\n",
       "          \n",
       "\t\t\t\t\n",
       "\t\t\t\t</tr><tr>\n",
       "\t\t\t\t<td class=\"black8ptbold\"><br/> Search By Number<br/> (example: HB0001)</td>\n",
       "\t\t\t</tr>\n",
       "\t\t\t<tr>\n",
       "\t\t\t\t<td class=\"home\">\n",
       "\t\t\t\t<form action=\"/numreslt.asp\" id=\"NumString\" method=\"post\" name=\"NumString\">\n",
       "\t\t\t\t<input name=\"NumSearch\" size=\"10\" type=\"text\"/>\n",
       "\t\t\t\t<input name=\"cmdStatus\" type=\"submit\" value=\"Go\"/>\n",
       "\t\t\t\t<!-- <input NAME=\"cmdHelp\" TYPE=\"button\" VALUE=\"Help\" onclick=\"window.open('/num_look_help.htm','test','width=600,height=300')\"> -->\n",
       "\t\t\t\t<a href=\"/num_look_help.htm\" onclick=\"window.open('/num_look_help.htm', 'SearchTips', 'width=600, height=300'); return false;\" target=\"SearchTips\" title=\"Search Tips\">Search Tips</a><br/><br/>\n",
       "\t\t\t\t</form>\n",
       "\t\t\t\t</td>\n",
       "\t\t\t</tr>\n",
       "\t\t\t<tr>\n",
       "\t\t\t\t<td class=\"black8ptbold\">Search By Keyword</td>\n",
       "\t\t\t</tr>\n",
       "\t\t\t<tr>\n",
       "\t\t\t<td class=\"home\">\n",
       "\t\t\t<!-- <form name=\"searchForm\" action=\"/search/iga_results.asp\"> -->\n",
       "\t\t\t<script language=\"JAVASCRIPT\">\n",
       "\t\t\t<!--\n",
       "\t\t\t\t\t\n",
       "\n",
       "\t\t\t//-->\n",
       "\t\t\t</script>\n",
       "\t\t\t<form action=\"/search/iga_results.asp\" name=\"searchForm\">\n",
       "\t\t\t<input name=\"q\" size=\"10\" type=\"text\"/>\n",
       "\t\t\t<input name=\"submit1\" type=\"submit\" value=\"Go\"/>\n",
       "\t\t\t<!-- <input type=\"button\" name=\"cmdHelp1\" value=\"Help\" onclick=\"window.open('/search/searchhelp.htm','test','width=500,height=400,scrollbars')\"> -->\n",
       "\t\t\t<!-- Next line's VALUE needs to change with each new General Assembly -->\n",
       "\t\t\t<input name=\"site\" type=\"hidden\" value=\"leg101\"/>\n",
       "\t\t\t\n",
       "\t\t\t<div>\t\t\t\n",
       "\t\t\t<a href=\"/search/searchhelp.pdf\" onclick=\"window.open('/search/searchhelp.pdf', 'SearchTips'); return false;\" target=\"SearchTips\" title=\"Search Tips\">Search Tips</a><br/><br/>\n",
       "\t\t\t<a href=\"/search/Advanced_Search.asp?site=leg101\" title=\"Advanced Search\">Advanced Search</a>\n",
       "\t\t\t<br/><br/>\n",
       "\t\t\t<!-- Amber alert and missing children --> \n",
       "\t\t\t<a href=\"http://www.amberillinois.com\">\n",
       "\t\t\t\t<img border=\"0\" height=\"60\" src=\"/images/amberillinois.jpg\" title=\"Illinois AMBER Alert\" width=\"80\"/>\n",
       "\t\t\t</a>\n",
       "\t\t\t<br/><br/> \n",
       "\t\t\t<a href=\"http://www.missingkids.com/\">\n",
       "\t\t\t\t<img alt=\"Missing Kids\" border=\"0\" height=\"60\" src=\"/images/missingexploited.jpg\" width=\"80\"/>\n",
       "\t\t\t</a>\n",
       "\t\t\t<!-- Amber alert and missing children --> \n",
       "\t\t\t\n",
       "\t\t\t</div></form></td>\n",
       "\t\t</tr>\n",
       "          </tbody></table></td><td class=\"verticalline\" width=\"1\"><img height=\"1\" src=\"/images/1ptrans.gif\" width=\"1\"/></td><td align=\"left\" valign=\"top\" width=\"99%\"><table align=\"left\" border=\"0\" width=\"440\"><tbody><tr><td width=\"100%\"><br/>\n",
       "<!-- End Body Start -->\n",
       "\n",
       "<!--Begin Custom Page Content-->\n",
       "<a name=\"top\"> </a><span class=\"heading\">Bill Status of SB0001</span>  <span class=\"content\"><i>101st General Assembly</i></span><br/><hr/><div id=\"toplinks\">  <a class=\"legislinks\" href=\"/legislation/fulltext.asp?DocName=&amp;SessionId=108&amp;GA=101&amp;DocTypeId=SB&amp;DocNum=1&amp;GAID=15&amp;LegID=113573&amp;SpecSess=&amp;Session=\">Full Text</a>  <a class=\"legislinks\" href=\"votehistory.asp?DocNum=1&amp;DocTypeID=SB&amp;LegID=113573&amp;GAID=15&amp;SessionID=108&amp;GA=101&amp;SpecSess=\">Votes</a>  <a class=\"legislinks\" href=\"witnessslip.asp?DocNum=1&amp;DocTypeID=SB&amp;LegID=113573&amp;GAID=15&amp;SessionID=108&amp;GA=101&amp;SpecSess=\">Witness Slips</a>  <a class=\"legislinks\" href=\"#actions\">View All Actions</a>  <a class=\"legislinks\" href=\"BillStatus_pf.asp?DocNum=1&amp;DocTypeID=SB&amp;LegID=113573&amp;GAID=15&amp;SessionID=108&amp;GA=101\" target=\"_blank\">Printer-Friendly Version</a><p></p></div><br/><span class=\"heading2\">Short Description:</span>  <span class=\"content\">MINIMUM WAGE/INCOME TAX CREDIT</span><br/><br/><span class=\"heading2\">Senate Sponsors</span><br/><span class=\"content\">Sen. </span><a class=\"content\" href=\"/senate/Senator.asp?MemberID=2535\">Kimberly A. Lightford</a> - <a class=\"content notranslate\" href=\"/senate/Senator.asp?MemberID=2549\">Jacqueline Y. Collins</a> - <a class=\"content notranslate\" href=\"/senate/Senator.asp?MemberID=2537\">Antonio Muñoz</a> - <a class=\"content notranslate\" href=\"/senate/Senator.asp?MemberID=2550\">Iris Y. Martinez</a> - <a class=\"content notranslate\" href=\"/senate/Senator.asp?MemberID=2554\">Mattie Hunter</a>, <a class=\"content notranslate\" href=\"/senate/Senator.asp?MemberID=2623\">Patricia Van Pelt</a>, <a class=\"content notranslate\" href=\"/senate/Senator.asp?MemberID=2729\">Robert Peters</a>, <a class=\"content notranslate\" href=\"/senate/Senator.asp?MemberID=2726\">Ann Gillespie</a>, <a class=\"content notranslate\" href=\"/senate/Senator.asp?MemberID=2731\">Ram Villivalam</a>, <a class=\"content notranslate\" href=\"/senate/Senator.asp?MemberID=2673\">Omar Aquino</a>, <a class=\"content notranslate\" href=\"/senate/Senator.asp?MemberID=2548\">Martin A. Sandoval</a>, <a class=\"content notranslate\" href=\"/senate/Senator.asp?MemberID=2536\">Terry Link</a>, <a class=\"content notranslate\" href=\"/senate/Senator.asp?MemberID=2703\">Elgie R. Sims, Jr.</a>, <a class=\"content notranslate\" href=\"/senate/Senator.asp?MemberID=2578\">Toi W. Hutchinson</a>, <a class=\"content notranslate\" href=\"/senate/Senator.asp?MemberID=2677\">Cristina Castro</a>, <a class=\"content notranslate\" href=\"/senate/Senator.asp?MemberID=2579\">Emil Jones, III</a><span class=\"content\"> and </span> <a class=\"content notranslate\" href=\"/senate/Senator.asp?MemberID=2721\">Christopher Belt</a><br/><br/><span class=\"heading2\">House Sponsors</span><br/><span class=\"content\">(Rep. </span><a class=\"content notranslate\" href=\"/house/Rep.asp?MemberID=2662\">Will Guzzardi</a> - <a class=\"content notranslate\" href=\"/house/Rep.asp?MemberID=2604\">Marcus C. Evans, Jr.</a> - <a class=\"content notranslate\" href=\"/house/Rep.asp?MemberID=2643\">Jay Hoffman</a> - <a class=\"content notranslate\" href=\"/house/Rep.asp?MemberID=2747\">Delia C. Ramirez</a> - <a class=\"content notranslate\" href=\"/house/Rep.asp?MemberID=2624\">Emanuel Chris Welch</a>, <a class=\"content\" href=\"/house/Rep.asp?MemberID=2645\">Jaime M. Andrade, Jr.</a>, <a class=\"content\" href=\"/house/Rep.asp?MemberID=2752\">Aaron M. Ortiz</a>, <a class=\"content\" href=\"/house/Rep.asp?MemberID=2682\">Justin Slaughter</a>, <a class=\"content\" href=\"/house/Rep.asp?MemberID=2707\">Celina Villanueva</a>, <a class=\"content\" href=\"/house/Rep.asp?MemberID=2525\">Sara Feigenholtz</a>, <a class=\"content\" href=\"/house/Rep.asp?MemberID=2764\">Yehiel M. Kalish</a>, <a class=\"content\" href=\"/house/Rep.asp?MemberID=2591\">Thaddeus Jones</a>, <a class=\"content\" href=\"/house/Rep.asp?MemberID=2740\">Anne Stava-Murray</a>, <a class=\"content\" href=\"/house/Rep.asp?MemberID=2526\">Mary E. Flowers</a><span class=\"content\"> and </span> <a class=\"content\" href=\"/house/Rep.asp?MemberID=2563\">Luis Arroyo</a>)<br/><br/><span class=\"heading2\">Last Action</span><br/><table border=\"1\" bordercolor=\"black\" cellpadding=\"2\" cellspacing=\"0\" width=\"600\"><tbody><tr><td align=\"center\" bgcolor=\"navy\" class=\"whiteheading\" width=\"13%\">Date</td><td align=\"center\" bgcolor=\"navy\" class=\"whiteheading\" width=\"12%\">Chamber</td><td align=\"left\" bgcolor=\"navy\" class=\"whiteheading\" width=\"75%\"> Action</td></tr><tr><td align=\"right\" class=\"content\" width=\"13%\">  2/19/2019</td><td align=\"center\" class=\"content\" width=\"12%\">Senate</td><td align=\"left\" class=\"content\" width=\"75%\">Public Act . . . . . . . . . <a href=\"../../legislation/publicacts/fulltext.asp?Name=101-0001\">101-0001</a></td></tr></tbody></table><br/><span class=\"heading2\">Statutes Amended In Order of Appearance</span><br/><table border=\"0\" width=\"570\"><tbody><tr><td width=\"20\"></td><td align=\"left\" class=\"content\" valign=\"top\" width=\"250\"><a href=\"/legislation/ilcs/fulltext.asp?DocName=082001050K1\">820 ILCS 105/1</a></td><td align=\"left\" class=\"content\" valign=\"top\" width=\"300\">from Ch. 48, par. 1001</td></tr></tbody></table><br/><br/><span class=\"heading2\">Synopsis As Introduced</span><br/><span class=\"content notranslate\">     Amends the Minimum Wage Law. Makes a technical change in a Section concerning the short title.</span><br/><br/><a href=\"/legislation/fulltext.asp?DocName=10100SB0001sam001&amp;GA=101&amp;LegID=113573&amp;SessionId=108&amp;SpecSess=0&amp;DocTypeId=SB&amp;DocNum=0001&amp;GAID=15&amp;Session=\"><b>Senate Floor Amendment No. 1</b></a><br/><table border=\"0\" width=\"570\"><tbody><tr><td width=\"20\"></td><td class=\"content\" colspan=\"2\" width=\"550\"><i>Deletes reference to: </i></td></tr><tr><td width=\"20\"></td><td align=\"left\" class=\"content\" valign=\"top\" width=\"250\"><a href=\"/legislation/ilcs/fulltext.asp?DocName=082001050K1\">820 ILCS 105/1</a></td><td align=\"left\" class=\"content\" valign=\"top\" width=\"300\"></td></tr></tbody></table><table border=\"0\" width=\"570\"><tbody><tr><td width=\"20\"></td><td class=\"content\" colspan=\"2\" width=\"550\"><i>Adds reference to: </i></td></tr><tr><td width=\"20\"></td><td align=\"left\" class=\"content\" valign=\"top\" width=\"250\"><a href=\"/legislation/ilcs/fulltext.asp?DocName=000501000K5-45\">5 ILCS 100/5-45</a></td><td align=\"left\" class=\"content\" valign=\"top\" width=\"300\">from Ch. 127, par. 1005-45</td></tr></tbody></table><table border=\"0\" width=\"570\"><tbody><tr><td width=\"20\"></td><td align=\"left\" class=\"content\" valign=\"top\" width=\"250\"><a href=\"/legislation/ilcs/fulltext.asp?DocName=003500050K704A\">35 ILCS 5/704A</a></td><td align=\"left\" class=\"content\" valign=\"top\" width=\"300\"></td></tr></tbody></table><table border=\"0\" width=\"570\"><tbody><tr><td width=\"20\"></td><td align=\"left\" class=\"content\" valign=\"top\" width=\"250\"><a href=\"/legislation/ilcs/fulltext.asp?DocName=082001050K4\">820 ILCS 105/4</a></td><td align=\"left\" class=\"content\" valign=\"top\" width=\"300\">from Ch. 48, par. 1004</td></tr></tbody></table><table border=\"0\" width=\"570\"><tbody><tr><td width=\"20\"></td><td align=\"left\" class=\"content\" valign=\"top\" width=\"250\"><a href=\"/legislation/ilcs/fulltext.asp?DocName=082001050K7\">820 ILCS 105/7</a></td><td align=\"left\" class=\"content\" valign=\"top\" width=\"300\">from Ch. 48, par. 1007</td></tr></tbody></table><table border=\"0\" width=\"570\"><tbody><tr><td width=\"20\"></td><td align=\"left\" class=\"content\" valign=\"top\" width=\"250\"><a href=\"/legislation/ilcs/fulltext.asp?DocName=082001050K10\">820 ILCS 105/10</a></td><td align=\"left\" class=\"content\" valign=\"top\" width=\"300\">from Ch. 48, par. 1010</td></tr></tbody></table><table border=\"0\" width=\"570\"><tbody><tr><td width=\"20\"></td><td align=\"left\" class=\"content\" valign=\"top\" width=\"250\"><a href=\"/legislation/ilcs/fulltext.asp?DocName=082001050K11\">820 ILCS 105/11</a></td><td align=\"left\" class=\"content\" valign=\"top\" width=\"300\">from Ch. 48, par. 1011</td></tr></tbody></table><table border=\"0\" width=\"570\"><tbody><tr><td width=\"20\"></td><td align=\"left\" class=\"content\" valign=\"top\" width=\"250\"><a href=\"/legislation/ilcs/fulltext.asp?DocName=082001050K12\">820 ILCS 105/12</a></td><td align=\"left\" class=\"content\" valign=\"top\" width=\"300\">from Ch. 48, par. 1012</td></tr></tbody></table><br/><span class=\"content notranslate\">Replaces everything after the enacting clause. Amends the Illinois Income Tax Act and the Minimum Wage Law. Provides for an increase in the minimum wage and for a credit against withholding payments in relation to the increase. Increases the minimum wage to $9.25 per hour beginning January 1, 2020. Provides for annual increases in the minimum wage culminating in a minimum wage of $15 per hour beginning on January 1, 2025. Provides to employers with 50 or fewer full-time equivalent employees a credit against tax withheld beginning January 1, 2020. Reduces the credit beginning January 1, 2021. Provides employers may claim the credit amount in effect on January 1, 2025 until December 31, 2026 and that employers with no more than 5 employees may claim that credit until December 31, 2027. Authorizes the Department of Labor to perform random audits of employer to ascertain compliance with the Minimum Wage Law. Authorizes a penalty of $100 per employee for failure to maintain required records. Effective immediately.</span><br/><br/><table border=\"0\" width=\"100%\"><tbody><tr><td width=\"20\"> </td><td class=\"content\"><b>Pension Note (Government Forecasting &amp; Accountability)</b></td></tr><tr><td class=\"content notranslate\" width=\"20\"> </td><td class=\"content\">There is no readily discernible fiscal impact associated with SB1, as engrossed. To the extent minimum wage workers participate in pension funds governed by the Pension Code, there could be an increase in accrued liability, but it would presumably be very small and likely actuarially insignificant.</td></tr></tbody></table><br/><table border=\"0\" width=\"100%\"><tbody><tr><td width=\"20\"> </td><td class=\"content\"><b>State Debt Impact Note (Government Forecasting &amp; Accountability)</b></td></tr><tr><td class=\"content notranslate\" width=\"20\"> </td><td class=\"content\">This bill would not change the amount of authorization for any type of State-issued or State-supported bond, and, therefore, would not affect the level of State indebtedness.</td></tr></tbody></table><br/><table border=\"0\" width=\"100%\"><tbody><tr><td width=\"20\"> </td><td class=\"content\"><b>Fiscal Note (Dept of Revenue)</b></td></tr><tr><td class=\"content notranslate\" width=\"20\"> </td><td class=\"content\">Increasing the minimum wage to $15 per hour over 6 years increases state revenues. The positive  effect on tax revenue, in the form of income and sales taxes, is only slightly offset by the negative effect on income tax revenues of the tax credit extended to eligible businesses. Overall, the net impact of this proposed legislation is an increase in state revenues of nearly $390 million by fiscal year 2027.\n",
       "\n",
       "The positive effect on tax revenue is produced by the additional income tax collection and sales tax collection given by higher wages and personal consumption  expenditure in the state economy. We estimate Individual Income tax (IIT) revenue at the current individual income tax rate of 4.95 percent. The estimate for Sales Tax revenue values were decreased to account for the fact that the state does  not tax services and receives no share of revenue on food for consumption off site, prescription  drugs or certain medical  devices.\n",
       "\n",
       "The negative effect on Income tax revenue is due to the tax credit against withholdings. The tax credit for eligible employers is a declining percentage of the wage increment defined as the differential between the employee's hourly wage from the final quarter of the previous calendar year and the State's minimum wage of the present year). The credit, applied on a calendar year basis, is set to scale down over the course of the ramp (to year 2025) at which point the calculation of the credit shifts to a flat, fixed dollar amount. The schedule of credits is as follows: 25% credit in 2020; 21% credit in 2021; 17% credit in 2022; 13% credit in 2023; 9% credit in 2024, and 5% credit in 2025. In calendar year 2026, the credit for businesses is fixed to match the credit taken in 2025; in calendar year 2027, the credit for those businesses with 5 or fewer employees is fixed to match the credit taken in 2025.\n",
       "\n",
       "In calculating the cost of the tax credit, we considered the number of minimum wage jobs increasing from $8.25 in 2019 to $10.00 in 2020, from $10.00 to $11.00 in 2021 and so on until 2027. We discounted those jobs in firms with more than 50 employees using Census bureau data on small firms in Illinois. We considered 1750 hours of work as full time in accordance with prior studies on the subject. All estimates above are static estimates, meaning that they do not account for changes in the labor supply and demand associated to the increase in labor cost.\n",
       "</td></tr></tbody></table><br/><table border=\"0\" width=\"100%\"><tbody><tr><td width=\"20\"> </td><td class=\"content\"><b>Home Rule Note (Dept. of Commerce &amp; Economic Opportunity)</b></td></tr><tr><td class=\"content notranslate\" width=\"20\"> </td><td class=\"content\">This bill does not pre-empt home rule authority.</td></tr></tbody></table><br/><table border=\"0\" width=\"100%\"><tbody><tr><td width=\"20\"> </td><td class=\"content\"><b>State Mandates Fiscal Note (Dept. of Commerce &amp; Economic Opportunity)</b></td></tr><tr><td class=\"content notranslate\" width=\"20\"> </td><td class=\"content\">This bill does create a State mandate.</td></tr></tbody></table><br/><table border=\"0\" width=\"100%\"><tbody><tr><td width=\"20\"> </td><td class=\"content\"><b>Balanced Budget Note (Office of Management and Budget)</b></td></tr><tr><td class=\"content notranslate\" width=\"20\"> </td><td class=\"content\">Please be advised that the Balanced Budget Note Act does not apply to SB 1, as it is not a supplemental appropriation that increases or decreases appropriations. Under the Act, a balanced budget note must be prepared only for bills that change a general funds appropriation for the fiscal year in which the new bill is enacted.</td></tr></tbody></table><br/><table border=\"0\" width=\"100%\"><tbody><tr><td width=\"20\"> </td><td class=\"content\"><b>Correctional Note (Dept of Corrections)</b></td></tr><tr><td class=\"content notranslate\" width=\"20\"> </td><td class=\"content\">There is no fiscal or population impact on the Department of Corrections. </td></tr></tbody></table><br/><table border=\"0\" width=\"100%\"><tbody><tr><td width=\"20\"> </td><td class=\"content\"><b>Judicial Note (Admin Office of the Illinois Courts)</b></td></tr><tr><td class=\"content notranslate\" width=\"20\"> </td><td class=\"content\">This bill would neither increase nor decrease the number of judges needed in the State of Illinois. </td></tr></tbody></table><br/><table border=\"0\" width=\"100%\"><tbody><tr><td width=\"20\"> </td><td class=\"content\"><b>Housing Affordability Impact Note (Housing Development Authority)</b></td></tr><tr><td class=\"content notranslate\" width=\"20\"> </td><td class=\"content\">This bill will have no effect on the cost of constructing, purchasing, owning, or selling a single-family residence.</td></tr></tbody></table><br/><span class=\"heading2\">Actions</span><a name=\"actions\"> </a><br/><table border=\"1\" bordercolor=\"black\" cellpadding=\"2\" cellspacing=\"0\" width=\"600\"><tbody><tr><td align=\"center\" bgcolor=\"navy\" class=\"whiteheading\" width=\"13%\">Date</td><td align=\"center\" bgcolor=\"navy\" class=\"whiteheading\" width=\"12%\">Chamber</td><td align=\"left\" bgcolor=\"navy\" class=\"whiteheading\" width=\"75%\"> Action</td></tr><tr><td align=\"right\" class=\"content\" valign=\"top\" width=\"13%\">  1/9/2019</td><td align=\"center\" class=\"content\" valign=\"top\" width=\"12%\">Senate</td><td align=\"left\" class=\"content\" valign=\"top\" width=\"75%\">Filed with Secretary by <a href=\"../../senate/senator.asp?GA=101&amp;MemberID=2535\">Sen. Kimberly A. Lightford</a></td></tr><tr><td align=\"right\" class=\"content\" valign=\"top\" width=\"13%\">  <b>1/9/2019</b></td><td align=\"center\" class=\"content\" valign=\"top\" width=\"12%\"><b>Senate</b></td><td align=\"left\" class=\"content\" valign=\"top\" width=\"75%\"><b>First Reading</b></td></tr><tr><td align=\"right\" class=\"content\" valign=\"top\" width=\"13%\">  1/9/2019</td><td align=\"center\" class=\"content\" valign=\"top\" width=\"12%\">Senate</td><td align=\"left\" class=\"content\" valign=\"top\" width=\"75%\">Referred to <a href=\"../../senate/committees/members.asp?GA=101&amp;committeeID=2341\">Assignments</a></td></tr><tr><td align=\"right\" class=\"content\" valign=\"top\" width=\"13%\">  1/23/2019</td><td align=\"center\" class=\"content\" valign=\"top\" width=\"12%\">Senate</td><td align=\"left\" class=\"content\" valign=\"top\" width=\"75%\">Approved for Consideration <a href=\"../../senate/committees/members.asp?GA=101&amp;committeeID=2341\">Assignments</a></td></tr><tr><td align=\"right\" class=\"content\" valign=\"top\" width=\"13%\">  1/23/2019</td><td align=\"center\" class=\"content\" valign=\"top\" width=\"12%\">Senate</td><td align=\"left\" class=\"content\" valign=\"top\" width=\"75%\">Placed on Calendar Order of 2nd Reading January 29, 2019</td></tr><tr><td align=\"right\" class=\"content\" valign=\"top\" width=\"13%\">  <b>1/29/2019</b></td><td align=\"center\" class=\"content\" valign=\"top\" width=\"12%\"><b>Senate</b></td><td align=\"left\" class=\"content\" valign=\"top\" width=\"75%\"><b>Second Reading</b></td></tr><tr><td align=\"right\" class=\"content\" valign=\"top\" width=\"13%\">  1/29/2019</td><td align=\"center\" class=\"content\" valign=\"top\" width=\"12%\">Senate</td><td align=\"left\" class=\"content\" valign=\"top\" width=\"75%\">Placed on Calendar Order of 3rd Reading January 30, 2019</td></tr><tr><td align=\"right\" class=\"content\" valign=\"top\" width=\"13%\">  1/29/2019</td><td align=\"center\" class=\"content\" valign=\"top\" width=\"12%\">Senate</td><td align=\"left\" class=\"content\" valign=\"top\" width=\"75%\">Added as Chief Co-Sponsor <a href=\"../../senate/senator.asp?GA=101&amp;MemberID=2549\">Sen. Jacqueline Y. Collins</a></td></tr><tr><td align=\"right\" class=\"content\" valign=\"top\" width=\"13%\">  1/29/2019</td><td align=\"center\" class=\"content\" valign=\"top\" width=\"12%\">Senate</td><td align=\"left\" class=\"content\" valign=\"top\" width=\"75%\">Added as Chief Co-Sponsor <a href=\"../../senate/senator.asp?GA=101&amp;MemberID=2537\">Sen. Antonio Muñoz</a></td></tr><tr><td align=\"right\" class=\"content\" valign=\"top\" width=\"13%\">  1/30/2019</td><td align=\"center\" class=\"content\" valign=\"top\" width=\"12%\">Senate</td><td align=\"left\" class=\"content\" valign=\"top\" width=\"75%\">Added as Chief Co-Sponsor <a href=\"../../senate/senator.asp?GA=101&amp;MemberID=2550\">Sen. Iris Y. Martinez</a></td></tr><tr><td align=\"right\" class=\"content\" valign=\"top\" width=\"13%\">  1/30/2019</td><td align=\"center\" class=\"content\" valign=\"top\" width=\"12%\">Senate</td><td align=\"left\" class=\"content\" valign=\"top\" width=\"75%\">Added as Chief Co-Sponsor <a href=\"../../senate/senator.asp?GA=101&amp;MemberID=2554\">Sen. Mattie Hunter</a></td></tr><tr><td align=\"right\" class=\"content\" valign=\"top\" width=\"13%\">  2/6/2019</td><td align=\"center\" class=\"content\" valign=\"top\" width=\"12%\">Senate</td><td align=\"left\" class=\"content\" valign=\"top\" width=\"75%\">Senate Floor Amendment No. 1 Filed with Secretary by <a href=\"../../senate/senator.asp?GA=101&amp;MemberID=2535\">Sen. Kimberly A. Lightford</a></td></tr><tr><td align=\"right\" class=\"content\" valign=\"top\" width=\"13%\">  2/6/2019</td><td align=\"center\" class=\"content\" valign=\"top\" width=\"12%\">Senate</td><td align=\"left\" class=\"content\" valign=\"top\" width=\"75%\">Senate Floor Amendment No. 1 Referred to <a href=\"../../senate/committees/members.asp?GA=101&amp;committeeID=2341\">Assignments</a></td></tr><tr><td align=\"right\" class=\"content\" valign=\"top\" width=\"13%\">  2/6/2019</td><td align=\"center\" class=\"content\" valign=\"top\" width=\"12%\">Senate</td><td align=\"left\" class=\"content\" valign=\"top\" width=\"75%\">Senate Floor Amendment No. 1 Assignments Refers to <a href=\"../../senate/committees/members.asp?GA=101&amp;committeeID=2320\">Executive</a></td></tr><tr><td align=\"right\" class=\"content\" valign=\"top\" width=\"13%\">  2/6/2019</td><td align=\"center\" class=\"content\" valign=\"top\" width=\"12%\">Senate</td><td align=\"left\" class=\"content\" valign=\"top\" width=\"75%\">Added as Co-Sponsor <a href=\"../../senate/senator.asp?GA=101&amp;MemberID=2623\">Sen. Patricia Van Pelt</a></td></tr><tr><td align=\"right\" class=\"content\" valign=\"top\" width=\"13%\">  2/6/2019</td><td align=\"center\" class=\"content\" valign=\"top\" width=\"12%\">Senate</td><td align=\"left\" class=\"content\" valign=\"top\" width=\"75%\">Added as Co-Sponsor <a href=\"../../senate/senator.asp?GA=101&amp;MemberID=2729\">Sen. Robert Peters</a></td></tr><tr><td align=\"right\" class=\"content\" valign=\"top\" width=\"13%\">  2/7/2019</td><td align=\"center\" class=\"content\" valign=\"top\" width=\"12%\">Senate</td><td align=\"left\" class=\"content\" valign=\"top\" width=\"75%\">Senate Floor Amendment No. 1 Recommend Do Adopt <a href=\"../../senate/committees/members.asp?GA=101&amp;committeeID=2320\">Executive</a>;  013-006-000</td></tr><tr><td align=\"right\" class=\"content\" valign=\"top\" width=\"13%\">  2/7/2019</td><td align=\"center\" class=\"content\" valign=\"top\" width=\"12%\">Senate</td><td align=\"left\" class=\"content\" valign=\"top\" width=\"75%\">Recalled to Second Reading</td></tr><tr><td align=\"right\" class=\"content\" valign=\"top\" width=\"13%\">  2/7/2019</td><td align=\"center\" class=\"content\" valign=\"top\" width=\"12%\">Senate</td><td align=\"left\" class=\"content\" valign=\"top\" width=\"75%\">Senate Floor Amendment No. 1 Adopted; Lightford</td></tr><tr><td align=\"right\" class=\"content\" valign=\"top\" width=\"13%\">  2/7/2019</td><td align=\"center\" class=\"content\" valign=\"top\" width=\"12%\">Senate</td><td align=\"left\" class=\"content\" valign=\"top\" width=\"75%\">Placed on Calendar Order of 3rd Reading</td></tr><tr><td align=\"right\" class=\"content\" valign=\"top\" width=\"13%\">  <b>2/7/2019</b></td><td align=\"center\" class=\"content\" valign=\"top\" width=\"12%\"><b>Senate</b></td><td align=\"left\" class=\"content\" valign=\"top\" width=\"75%\"><b>Third Reading - Passed; <a href=\"votehistory.asp?GA=101&amp;DocNum=1&amp;DocTypeID=SB&amp;GAId=15&amp;LegID=113573&amp;SessionID=108\">039-018-000</a></b></td></tr><tr><td align=\"right\" class=\"content\" valign=\"top\" width=\"13%\">  2/7/2019</td><td align=\"center\" class=\"content\" valign=\"top\" width=\"12%\">House</td><td align=\"left\" class=\"content\" valign=\"top\" width=\"75%\">Arrived in House</td></tr><tr><td align=\"right\" class=\"content\" valign=\"top\" width=\"13%\">  2/7/2019</td><td align=\"center\" class=\"content\" valign=\"top\" width=\"12%\">House</td><td align=\"left\" class=\"content\" valign=\"top\" width=\"75%\">Chief House Sponsor <a href=\"../../house/rep.asp?GA=101&amp;MemberID=2662\">Rep. Will Guzzardi</a></td></tr><tr><td align=\"right\" class=\"content\" valign=\"top\" width=\"13%\">  <b>2/7/2019</b></td><td align=\"center\" class=\"content\" valign=\"top\" width=\"12%\"><b>House</b></td><td align=\"left\" class=\"content\" valign=\"top\" width=\"75%\"><b>First Reading</b></td></tr><tr><td align=\"right\" class=\"content\" valign=\"top\" width=\"13%\">  2/7/2019</td><td align=\"center\" class=\"content\" valign=\"top\" width=\"12%\">House</td><td align=\"left\" class=\"content\" valign=\"top\" width=\"75%\">Referred to <a href=\"../../house/committees/members.asp?GA=101&amp;committeeID=2312\">Rules Committee</a></td></tr><tr><td align=\"right\" class=\"content\" valign=\"top\" width=\"13%\">  2/7/2019</td><td align=\"center\" class=\"content\" valign=\"top\" width=\"12%\">House</td><td align=\"left\" class=\"content\" valign=\"top\" width=\"75%\">Assigned to <a href=\"../../house/committees/members.asp?GA=101&amp;committeeID=2309\">Labor &amp; Commerce Committee</a></td></tr><tr><td align=\"right\" class=\"content\" valign=\"top\" width=\"13%\">  2/7/2019</td><td align=\"center\" class=\"content\" valign=\"top\" width=\"12%\">Senate</td><td align=\"left\" class=\"content\" valign=\"top\" width=\"75%\">Added as Co-Sponsor <a href=\"../../senate/senator.asp?GA=101&amp;MemberID=2726\">Sen. Ann Gillespie</a></td></tr><tr><td align=\"right\" class=\"content\" valign=\"top\" width=\"13%\">  2/7/2019</td><td align=\"center\" class=\"content\" valign=\"top\" width=\"12%\">Senate</td><td align=\"left\" class=\"content\" valign=\"top\" width=\"75%\">Added as Co-Sponsor <a href=\"../../senate/senator.asp?GA=101&amp;MemberID=2731\">Sen. Ram Villivalam</a></td></tr><tr><td align=\"right\" class=\"content\" valign=\"top\" width=\"13%\">  2/7/2019</td><td align=\"center\" class=\"content\" valign=\"top\" width=\"12%\">Senate</td><td align=\"left\" class=\"content\" valign=\"top\" width=\"75%\">Added as Co-Sponsor <a href=\"../../senate/senator.asp?GA=101&amp;MemberID=2673\">Sen. Omar Aquino</a></td></tr><tr><td align=\"right\" class=\"content\" valign=\"top\" width=\"13%\">  2/7/2019</td><td align=\"center\" class=\"content\" valign=\"top\" width=\"12%\">Senate</td><td align=\"left\" class=\"content\" valign=\"top\" width=\"75%\">Added as Co-Sponsor <a href=\"../../senate/senator.asp?GA=101&amp;MemberID=2548\">Sen. Martin A. Sandoval</a></td></tr><tr><td align=\"right\" class=\"content\" valign=\"top\" width=\"13%\">  2/7/2019</td><td align=\"center\" class=\"content\" valign=\"top\" width=\"12%\">Senate</td><td align=\"left\" class=\"content\" valign=\"top\" width=\"75%\">Added as Co-Sponsor <a href=\"../../senate/senator.asp?GA=101&amp;MemberID=2536\">Sen. Terry Link</a></td></tr><tr><td align=\"right\" class=\"content\" valign=\"top\" width=\"13%\">  2/7/2019</td><td align=\"center\" class=\"content\" valign=\"top\" width=\"12%\">Senate</td><td align=\"left\" class=\"content\" valign=\"top\" width=\"75%\">Added as Co-Sponsor <a href=\"../../senate/senator.asp?GA=101&amp;MemberID=2703\">Sen. Elgie R. Sims, Jr.</a></td></tr><tr><td align=\"right\" class=\"content\" valign=\"top\" width=\"13%\">  2/7/2019</td><td align=\"center\" class=\"content\" valign=\"top\" width=\"12%\">Senate</td><td align=\"left\" class=\"content\" valign=\"top\" width=\"75%\">Added as Co-Sponsor <a href=\"../../senate/senator.asp?GA=101&amp;MemberID=2578\">Sen. Toi W. Hutchinson</a></td></tr><tr><td align=\"right\" class=\"content\" valign=\"top\" width=\"13%\">  2/7/2019</td><td align=\"center\" class=\"content\" valign=\"top\" width=\"12%\">Senate</td><td align=\"left\" class=\"content\" valign=\"top\" width=\"75%\">Added as Co-Sponsor <a href=\"../../senate/senator.asp?GA=101&amp;MemberID=2677\">Sen. Cristina Castro</a></td></tr><tr><td align=\"right\" class=\"content\" valign=\"top\" width=\"13%\">  2/7/2019</td><td align=\"center\" class=\"content\" valign=\"top\" width=\"12%\">Senate</td><td align=\"left\" class=\"content\" valign=\"top\" width=\"75%\">Added as Co-Sponsor <a href=\"../../senate/senator.asp?GA=101&amp;MemberID=2579\">Sen. Emil Jones, III</a></td></tr><tr><td align=\"right\" class=\"content\" valign=\"top\" width=\"13%\">  2/8/2019</td><td align=\"center\" class=\"content\" valign=\"top\" width=\"12%\">House</td><td align=\"left\" class=\"content\" valign=\"top\" width=\"75%\">Added Alternate Chief Co-Sponsor <a href=\"../../house/rep.asp?GA=101&amp;MemberID=2587\">Rep. Arthur Turner</a></td></tr><tr><td align=\"right\" class=\"content\" valign=\"top\" width=\"13%\">  2/8/2019</td><td align=\"center\" class=\"content\" valign=\"top\" width=\"12%\">House</td><td align=\"left\" class=\"content\" valign=\"top\" width=\"75%\">Added Alternate Chief Co-Sponsor <a href=\"../../house/rep.asp?GA=101&amp;MemberID=2643\">Rep. Jay Hoffman</a></td></tr><tr><td align=\"right\" class=\"content\" valign=\"top\" width=\"13%\">  2/8/2019</td><td align=\"center\" class=\"content\" valign=\"top\" width=\"12%\">House</td><td align=\"left\" class=\"content\" valign=\"top\" width=\"75%\">Added Alternate Chief Co-Sponsor <a href=\"../../house/rep.asp?GA=101&amp;MemberID=2747\">Rep. Delia C. Ramirez</a></td></tr><tr><td align=\"right\" class=\"content\" valign=\"top\" width=\"13%\">  2/8/2019</td><td align=\"center\" class=\"content\" valign=\"top\" width=\"12%\">House</td><td align=\"left\" class=\"content\" valign=\"top\" width=\"75%\">Added Alternate Chief Co-Sponsor <a href=\"../../house/rep.asp?GA=101&amp;MemberID=2624\">Rep. Emanuel Chris Welch</a></td></tr><tr><td align=\"right\" class=\"content\" valign=\"top\" width=\"13%\">  2/13/2019</td><td align=\"center\" class=\"content\" valign=\"top\" width=\"12%\">House</td><td align=\"left\" class=\"content\" valign=\"top\" width=\"75%\">Added Alternate Co-Sponsor <a href=\"../../house/rep.asp?GA=101&amp;MemberID=2645\">Rep. Jaime M. Andrade, Jr.</a></td></tr><tr><td align=\"right\" class=\"content\" valign=\"top\" width=\"13%\">  2/13/2019</td><td align=\"center\" class=\"content\" valign=\"top\" width=\"12%\">House</td><td align=\"left\" class=\"content\" valign=\"top\" width=\"75%\">Added Alternate Co-Sponsor <a href=\"../../house/rep.asp?GA=101&amp;MemberID=2752\">Rep. Aaron M. Ortiz</a></td></tr><tr><td align=\"right\" class=\"content\" valign=\"top\" width=\"13%\">  2/13/2019</td><td align=\"center\" class=\"content\" valign=\"top\" width=\"12%\">House</td><td align=\"left\" class=\"content\" valign=\"top\" width=\"75%\">Added Alternate Co-Sponsor <a href=\"../../house/rep.asp?GA=101&amp;MemberID=2682\">Rep. Justin Slaughter</a></td></tr><tr><td align=\"right\" class=\"content\" valign=\"top\" width=\"13%\">  2/13/2019</td><td align=\"center\" class=\"content\" valign=\"top\" width=\"12%\">Senate</td><td align=\"left\" class=\"content\" valign=\"top\" width=\"75%\">Added as Co-Sponsor <a href=\"../../senate/senator.asp?GA=101&amp;MemberID=2721\">Sen. Christopher Belt</a></td></tr><tr><td align=\"right\" class=\"content\" valign=\"top\" width=\"13%\">  2/13/2019</td><td align=\"center\" class=\"content\" valign=\"top\" width=\"12%\">House</td><td align=\"left\" class=\"content\" valign=\"top\" width=\"75%\">Added Alternate Co-Sponsor <a href=\"../../house/rep.asp?GA=101&amp;MemberID=2707\">Rep. Celina Villanueva</a></td></tr><tr><td align=\"right\" class=\"content\" valign=\"top\" width=\"13%\">  2/13/2019</td><td align=\"center\" class=\"content\" valign=\"top\" width=\"12%\">House</td><td align=\"left\" class=\"content\" valign=\"top\" width=\"75%\">Added Alternate Co-Sponsor <a href=\"../../house/rep.asp?GA=101&amp;MemberID=2525\">Rep. Sara Feigenholtz</a></td></tr><tr><td align=\"right\" class=\"content\" valign=\"top\" width=\"13%\">  2/13/2019</td><td align=\"center\" class=\"content\" valign=\"top\" width=\"12%\">House</td><td align=\"left\" class=\"content\" valign=\"top\" width=\"75%\">Added Alternate Co-Sponsor <a href=\"../../house/rep.asp?GA=101&amp;MemberID=2764\">Rep. Yehiel M. Kalish</a></td></tr><tr><td align=\"right\" class=\"content\" valign=\"top\" width=\"13%\">  2/13/2019</td><td align=\"center\" class=\"content\" valign=\"top\" width=\"12%\">House</td><td align=\"left\" class=\"content\" valign=\"top\" width=\"75%\">Do Pass / Short Debate <a href=\"../../house/committees/members.asp?GA=101&amp;committeeID=2309\">Labor &amp; Commerce Committee</a>;  019-010-000</td></tr><tr><td align=\"right\" class=\"content\" valign=\"top\" width=\"13%\">  2/13/2019</td><td align=\"center\" class=\"content\" valign=\"top\" width=\"12%\">House</td><td align=\"left\" class=\"content\" valign=\"top\" width=\"75%\">Placed on Calendar 2nd Reading - Short Debate</td></tr><tr><td align=\"right\" class=\"content\" valign=\"top\" width=\"13%\">  <b>2/13/2019</b></td><td align=\"center\" class=\"content\" valign=\"top\" width=\"12%\"><b>House</b></td><td align=\"left\" class=\"content\" valign=\"top\" width=\"75%\"><b>Second Reading - Short Debate</b></td></tr><tr><td align=\"right\" class=\"content\" valign=\"top\" width=\"13%\">  2/13/2019</td><td align=\"center\" class=\"content\" valign=\"top\" width=\"12%\">House</td><td align=\"left\" class=\"content\" valign=\"top\" width=\"75%\">Held on Calendar Order of Second Reading - Short Debate</td></tr><tr><td align=\"right\" class=\"content\" valign=\"top\" width=\"13%\">  2/14/2019</td><td align=\"center\" class=\"content\" valign=\"top\" width=\"12%\">House</td><td align=\"left\" class=\"content\" valign=\"top\" width=\"75%\">Alternate Chief Co-Sponsor Removed <a href=\"../../house/rep.asp?GA=101&amp;MemberID=2587\">Rep. Arthur Turner</a></td></tr><tr><td align=\"right\" class=\"content\" valign=\"top\" width=\"13%\">  2/14/2019</td><td align=\"center\" class=\"content\" valign=\"top\" width=\"12%\">House</td><td align=\"left\" class=\"content\" valign=\"top\" width=\"75%\">Added Alternate Chief Co-Sponsor <a href=\"../../house/rep.asp?GA=101&amp;MemberID=2604\">Rep. Marcus C. Evans, Jr.</a></td></tr><tr><td align=\"right\" class=\"content\" valign=\"top\" width=\"13%\">  2/14/2019</td><td align=\"center\" class=\"content\" valign=\"top\" width=\"12%\">House</td><td align=\"left\" class=\"content\" valign=\"top\" width=\"75%\">Fiscal Note Requested by <a href=\"../../house/rep.asp?GA=101&amp;MemberID=2653\">Rep. Mark Batinick</a></td></tr><tr><td align=\"right\" class=\"content\" valign=\"top\" width=\"13%\">  2/14/2019</td><td align=\"center\" class=\"content\" valign=\"top\" width=\"12%\">House</td><td align=\"left\" class=\"content\" valign=\"top\" width=\"75%\">State Mandates Fiscal Note Requested by <a href=\"../../house/rep.asp?GA=101&amp;MemberID=2653\">Rep. Mark Batinick</a></td></tr><tr><td align=\"right\" class=\"content\" valign=\"top\" width=\"13%\">  2/14/2019</td><td align=\"center\" class=\"content\" valign=\"top\" width=\"12%\">House</td><td align=\"left\" class=\"content\" valign=\"top\" width=\"75%\">Home Rule Note Requested by <a href=\"../../house/rep.asp?GA=101&amp;MemberID=2653\">Rep. Mark Batinick</a></td></tr><tr><td align=\"right\" class=\"content\" valign=\"top\" width=\"13%\">  2/14/2019</td><td align=\"center\" class=\"content\" valign=\"top\" width=\"12%\">House</td><td align=\"left\" class=\"content\" valign=\"top\" width=\"75%\">Pension Note Requested by <a href=\"../../house/rep.asp?GA=101&amp;MemberID=2653\">Rep. Mark Batinick</a></td></tr><tr><td align=\"right\" class=\"content\" valign=\"top\" width=\"13%\">  2/14/2019</td><td align=\"center\" class=\"content\" valign=\"top\" width=\"12%\">House</td><td align=\"left\" class=\"content\" valign=\"top\" width=\"75%\">Pension Note Filed</td></tr><tr><td align=\"right\" class=\"content\" valign=\"top\" width=\"13%\">  2/14/2019</td><td align=\"center\" class=\"content\" valign=\"top\" width=\"12%\">House</td><td align=\"left\" class=\"content\" valign=\"top\" width=\"75%\">State Debt Impact Note Filed</td></tr><tr><td align=\"right\" class=\"content\" valign=\"top\" width=\"13%\">  2/14/2019</td><td align=\"center\" class=\"content\" valign=\"top\" width=\"12%\">House</td><td align=\"left\" class=\"content\" valign=\"top\" width=\"75%\">Fiscal Note Filed</td></tr><tr><td align=\"right\" class=\"content\" valign=\"top\" width=\"13%\">  2/14/2019</td><td align=\"center\" class=\"content\" valign=\"top\" width=\"12%\">House</td><td align=\"left\" class=\"content\" valign=\"top\" width=\"75%\">Home Rule Note Filed</td></tr><tr><td align=\"right\" class=\"content\" valign=\"top\" width=\"13%\">  2/14/2019</td><td align=\"center\" class=\"content\" valign=\"top\" width=\"12%\">House</td><td align=\"left\" class=\"content\" valign=\"top\" width=\"75%\">State Mandates Fiscal Note Filed</td></tr><tr><td align=\"right\" class=\"content\" valign=\"top\" width=\"13%\">  2/14/2019</td><td align=\"center\" class=\"content\" valign=\"top\" width=\"12%\">House</td><td align=\"left\" class=\"content\" valign=\"top\" width=\"75%\">Placed on Calendar Order of 3rd Reading - Short Debate</td></tr><tr><td align=\"right\" class=\"content\" valign=\"top\" width=\"13%\">  2/14/2019</td><td align=\"center\" class=\"content\" valign=\"top\" width=\"12%\">House</td><td align=\"left\" class=\"content\" valign=\"top\" width=\"75%\">Added Alternate Co-Sponsor <a href=\"../../house/rep.asp?GA=101&amp;MemberID=2591\">Rep. Thaddeus Jones</a></td></tr><tr><td align=\"right\" class=\"content\" valign=\"top\" width=\"13%\">  2/14/2019</td><td align=\"center\" class=\"content\" valign=\"top\" width=\"12%\">House</td><td align=\"left\" class=\"content\" valign=\"top\" width=\"75%\">Added Alternate Co-Sponsor <a href=\"../../house/rep.asp?GA=101&amp;MemberID=2740\">Rep. Anne Stava-Murray</a></td></tr><tr><td align=\"right\" class=\"content\" valign=\"top\" width=\"13%\">  2/14/2019</td><td align=\"center\" class=\"content\" valign=\"top\" width=\"12%\">House</td><td align=\"left\" class=\"content\" valign=\"top\" width=\"75%\">Balanced Budget Note Filed</td></tr><tr><td align=\"right\" class=\"content\" valign=\"top\" width=\"13%\">  2/14/2019</td><td align=\"center\" class=\"content\" valign=\"top\" width=\"12%\">House</td><td align=\"left\" class=\"content\" valign=\"top\" width=\"75%\">Correctional Note Filed</td></tr><tr><td align=\"right\" class=\"content\" valign=\"top\" width=\"13%\">  2/14/2019</td><td align=\"center\" class=\"content\" valign=\"top\" width=\"12%\">House</td><td align=\"left\" class=\"content\" valign=\"top\" width=\"75%\">Judicial Note Filed</td></tr><tr><td align=\"right\" class=\"content\" valign=\"top\" width=\"13%\">  2/14/2019</td><td align=\"center\" class=\"content\" valign=\"top\" width=\"12%\">House</td><td align=\"left\" class=\"content\" valign=\"top\" width=\"75%\">Housing Affordability Impact Note Filed</td></tr><tr><td align=\"right\" class=\"content\" valign=\"top\" width=\"13%\">  <b>2/14/2019</b></td><td align=\"center\" class=\"content\" valign=\"top\" width=\"12%\"><b>House</b></td><td align=\"left\" class=\"content\" valign=\"top\" width=\"75%\"><b>Third Reading - Short Debate - Passed <a href=\"votehistory.asp?GA=101&amp;DocNum=1&amp;DocTypeID=SB&amp;GAId=15&amp;LegID=113573&amp;SessionID=108\">069-047-001</a></b></td></tr><tr><td align=\"right\" class=\"content\" valign=\"top\" width=\"13%\">  2/14/2019</td><td align=\"center\" class=\"content\" valign=\"top\" width=\"12%\">Senate</td><td align=\"left\" class=\"content\" valign=\"top\" width=\"75%\">Passed Both Houses</td></tr><tr><td align=\"right\" class=\"content\" valign=\"top\" width=\"13%\">  2/14/2019</td><td align=\"center\" class=\"content\" valign=\"top\" width=\"12%\">House</td><td align=\"left\" class=\"content\" valign=\"top\" width=\"75%\">Added Alternate Co-Sponsor <a href=\"../../house/rep.asp?GA=101&amp;MemberID=2526\">Rep. Mary E. Flowers</a></td></tr><tr><td align=\"right\" class=\"content\" valign=\"top\" width=\"13%\">  2/14/2019</td><td align=\"center\" class=\"content\" valign=\"top\" width=\"12%\">House</td><td align=\"left\" class=\"content\" valign=\"top\" width=\"75%\">Added Alternate Co-Sponsor <a href=\"../../house/rep.asp?GA=101&amp;MemberID=2563\">Rep. Luis Arroyo</a></td></tr><tr><td align=\"right\" class=\"content\" valign=\"top\" width=\"13%\">  2/15/2019</td><td align=\"center\" class=\"content\" valign=\"top\" width=\"12%\">Senate</td><td align=\"left\" class=\"content\" valign=\"top\" width=\"75%\">Sent to the Governor</td></tr><tr><td align=\"right\" class=\"content\" valign=\"top\" width=\"13%\">  2/19/2019</td><td align=\"center\" class=\"content\" valign=\"top\" width=\"12%\">Senate</td><td align=\"left\" class=\"content\" valign=\"top\" width=\"75%\">Governor Approved</td></tr><tr><td align=\"right\" class=\"content\" valign=\"top\" width=\"13%\">  2/19/2019</td><td align=\"center\" class=\"content\" valign=\"top\" width=\"12%\">Senate</td><td align=\"left\" class=\"content\" valign=\"top\" width=\"75%\">Effective Date February 19, 2019</td></tr><tr><td align=\"right\" class=\"content\" valign=\"top\" width=\"13%\">  <b>2/19/2019</b></td><td align=\"center\" class=\"content\" valign=\"top\" width=\"12%\"><b>Senate</b></td><td align=\"left\" class=\"content\" valign=\"top\" width=\"75%\"><b>Public Act . . . . . . . . . <a href=\"../../legislation/publicacts/fulltext.asp?Name=101-0001\">101-0001</a></b></td></tr></tbody></table><br/><table width=\"580\"><tbody><tr><td align=\"center\"><a class=\"legislinks\" href=\"#top\" id=\"statuslinks\">Back To Top</a></td></tr></tbody></table><br/>\n",
       "<!--End Custom Page Content-->\n",
       "\n",
       "<!--Begin Page End-->\n",
       "\n",
       "\n",
       "</td></tr>\n",
       "<tr id=\"Legislation\">\n",
       "<td>\n",
       "  <table align=\"center\" border=\"0\" cellpadding=\"0\" cellspacing=\"0\" class=\"footer\" width=\"100%\">\n",
       "    <tbody><tr>\n",
       "      <td align=\"center\" colspan=\"2\"><hr color=\"navy\" noshade=\"True\"/>\n",
       "      <a class=\"footer\" href=\"/\" title=\"View the General Assembly web site home page\">Home</a> | \n",
       "      <a class=\"footer\" href=\"/legislation/\" title=\"View Legislation and Laws\">Legislation &amp; Laws</a> | \n",
       "      <a class=\"footer\" href=\"/house/default.asp\" title=\"View information regarding House of Representatives\">House</a> | \n",
       "      <a class=\"footer\" href=\"/senate/default.asp\" title=\"View information regarding Senate\">Senate</a> |\n",
       "      <a class=\"footer\" href=\"/mylegislation/default.asp\" title=\"Set up customized queries, create reports for tracking, etc.\">My Legislation</a> |\n",
       "      <a class=\"footer\" href=\"/disclaimer.asp\" title=\"Disclaimers regarding the Illinois General Assembly web site\">Disclaimers</a> |\n",
       "      <a class=\"footer\" href=\"/contact.asp\" title=\"Contact the Illinois General Assembly Web Support Staff\">Email</a>\n",
       "      </td>\n",
       "    </tr>\n",
       "    <tr>\n",
       "\t\t<td align=\"center\" colspan=\"2\"><hr color=\"navy\" noshade=\"True\"/><br/></td>\n",
       "    </tr>\n",
       "    <tr>\n",
       "\t\t<td align=\"left\" class=\"footer\" width=\"107\">  <img alt=\"Legislative Information System logo\" height=\"45\" src=\"/images/lislogo.jpg\" width=\"100\"/></td>\n",
       "\t\t<td align+\"left\"=\"\" class=\"footer\" valign=\"top\" width=\"100%\">This site is maintained for the Illinois General Assembly \n",
       "by the<br/>Legislative Information System, 705 Stratton Building, Springfield, Illinois 62706<br/> \n",
       "217-782-3944   217-782-2050 (TTY) \n",
       "<br/>\n",
       "\t\t</td>\n",
       "\t</tr>\n",
       "  </tbody></table>\n",
       "    \n",
       "</td>\n",
       "</tr>\n",
       "</tbody></table>\n",
       "<p> </p><br/>\n",
       "</td>\n",
       "</tr>\n",
       "</tbody></table>\n",
       "  \n",
       "\n",
       "\n",
       "\n",
       "</body></html><!--End Page End-->"
      ]
     },
     "execution_count": 421,
     "metadata": {},
     "output_type": "execute_result"
    }
   ],
   "source": [
    "soup_test"
   ]
  },
  {
   "cell_type": "code",
   "execution_count": 422,
   "metadata": {},
   "outputs": [
    {
     "data": {
      "text/plain": [
       "[<span class=\"close\">×</span>,\n",
       " <span style=\"white-space: nowrap\"><a class=\"goog-logo-link\" href=\"https://translate.google.com\" target=\"_blank\"><img alt=\"Google Translate\" height=\"14\" src=\"https://www.gstatic.com/images/branding/googlelogo/1x/googlelogo_color_42x16dp.png\" style=\"padding-right: 3px;\" width=\"37\"/>Translate</a></span>,\n",
       " <span class=\"heading\">Bill Status of SB0001</span>,\n",
       " <span class=\"content\"><i>101st General Assembly</i></span>,\n",
       " <span class=\"heading2\">Short Description:</span>,\n",
       " <span class=\"content\">MINIMUM WAGE/INCOME TAX CREDIT</span>,\n",
       " <span class=\"heading2\">Senate Sponsors</span>,\n",
       " <span class=\"content\">Sen. </span>,\n",
       " <span class=\"content\"> and </span>,\n",
       " <span class=\"heading2\">House Sponsors</span>,\n",
       " <span class=\"content\">(Rep. </span>,\n",
       " <span class=\"content\"> and </span>,\n",
       " <span class=\"heading2\">Last Action</span>,\n",
       " <span class=\"heading2\">Statutes Amended In Order of Appearance</span>,\n",
       " <span class=\"heading2\">Synopsis As Introduced</span>,\n",
       " <span class=\"content notranslate\">     Amends the Minimum Wage Law. Makes a technical change in a Section concerning the short title.</span>,\n",
       " <span class=\"content notranslate\">Replaces everything after the enacting clause. Amends the Illinois Income Tax Act and the Minimum Wage Law. Provides for an increase in the minimum wage and for a credit against withholding payments in relation to the increase. Increases the minimum wage to $9.25 per hour beginning January 1, 2020. Provides for annual increases in the minimum wage culminating in a minimum wage of $15 per hour beginning on January 1, 2025. Provides to employers with 50 or fewer full-time equivalent employees a credit against tax withheld beginning January 1, 2020. Reduces the credit beginning January 1, 2021. Provides employers may claim the credit amount in effect on January 1, 2025 until December 31, 2026 and that employers with no more than 5 employees may claim that credit until December 31, 2027. Authorizes the Department of Labor to perform random audits of employer to ascertain compliance with the Minimum Wage Law. Authorizes a penalty of $100 per employee for failure to maintain required records. Effective immediately.</span>,\n",
       " <span class=\"heading2\">Actions</span>]"
      ]
     },
     "execution_count": 422,
     "metadata": {},
     "output_type": "execute_result"
    }
   ],
   "source": [
    "bill_info = {}\n",
    "soup_test.find_all(\"span\")"
   ]
  },
  {
   "cell_type": "markdown",
   "metadata": {},
   "source": [
    "Bill Number"
   ]
  },
  {
   "cell_type": "code",
   "execution_count": 423,
   "metadata": {},
   "outputs": [
    {
     "name": "stdout",
     "output_type": "stream",
     "text": [
      "{'SB0001': {}}\n"
     ]
    }
   ],
   "source": [
    "bill_number = soup_test.title.text.split()[-1]\n",
    "bill_info[bill_number] = {}\n",
    "print(bill_info)"
   ]
  },
  {
   "cell_type": "markdown",
   "metadata": {},
   "source": [
    "Bill Title (Short Description)"
   ]
  },
  {
   "cell_type": "code",
   "execution_count": 424,
   "metadata": {},
   "outputs": [],
   "source": [
    "heading_tags = soup_test.find_all('span', class_ = \"heading2\")\n",
    "for tag in heading_tags:\n",
    "    if tag.text.startswith(\"Short Description\"):\n",
    "        description_tag = tag\n",
    "        break"
   ]
  },
  {
   "cell_type": "code",
   "execution_count": 425,
   "metadata": {},
   "outputs": [
    {
     "name": "stdout",
     "output_type": "stream",
     "text": [
      "{'SB0001': {'short description': 'MINIMUM WAGE/INCOME TAX CREDIT'}}\n"
     ]
    }
   ],
   "source": [
    "bill_short_descr = description_tag.next.next.next.text\n",
    "bill_info[bill_number]['short description'] = bill_short_descr\n",
    "print(bill_info)"
   ]
  },
  {
   "cell_type": "markdown",
   "metadata": {},
   "source": [
    "Senate Sponsors"
   ]
  },
  {
   "cell_type": "code",
   "execution_count": 426,
   "metadata": {},
   "outputs": [],
   "source": [
    "next_tag = None\n",
    "for tag in heading_tags:\n",
    "    if tag.text.startswith(\"Senate Sponsors\"):\n",
    "        next_tag = tag.next_sibling.next_sibling\n",
    "        break\n",
    "    "
   ]
  },
  {
   "cell_type": "code",
   "execution_count": 427,
   "metadata": {},
   "outputs": [],
   "source": [
    "senate_sponsors = []\n",
    "while True:\n",
    "    if next_tag is None: break\n",
    "    if isinstance(next_tag, bs4.element.Tag) and next_tag.has_attr(\"href\"):\n",
    "        senate_sponsors.append(next_tag.text)\n",
    "    next_tag = next_tag.next_sibling\n",
    "    if next_tag in heading_tags: break"
   ]
  },
  {
   "cell_type": "code",
   "execution_count": 428,
   "metadata": {},
   "outputs": [
    {
     "name": "stdout",
     "output_type": "stream",
     "text": [
      "{'SB0001': {'short description': 'MINIMUM WAGE/INCOME TAX CREDIT', 'senate sponsors': ['Kimberly A. Lightford', 'Jacqueline Y. Collins', 'Antonio Muñoz', 'Iris Y. Martinez', 'Mattie Hunter', 'Patricia Van Pelt', 'Robert Peters', 'Ann Gillespie', 'Ram Villivalam', 'Omar Aquino', 'Martin A. Sandoval', 'Terry Link', 'Elgie R. Sims, Jr.', 'Toi W. Hutchinson', 'Cristina Castro', 'Emil Jones, III', 'Christopher Belt']}}\n"
     ]
    }
   ],
   "source": [
    "bill_info[bill_number]['senate sponsors'] = senate_sponsors\n",
    "print(bill_info)"
   ]
  },
  {
   "cell_type": "markdown",
   "metadata": {},
   "source": [
    "House Sponsors"
   ]
  },
  {
   "cell_type": "code",
   "execution_count": 429,
   "metadata": {},
   "outputs": [],
   "source": [
    "next_tag = None\n",
    "for tag in heading_tags:\n",
    "    if tag.text.startswith(\"House Sponsors\"):\n",
    "        next_tag = tag.next_sibling.next_sibling\n",
    "        break "
   ]
  },
  {
   "cell_type": "code",
   "execution_count": 430,
   "metadata": {},
   "outputs": [],
   "source": [
    "house_sponsors = []\n",
    "while True:\n",
    "    if next_tag is None: break\n",
    "    if isinstance(next_tag, bs4.element.Tag) and next_tag.has_attr(\"href\"):\n",
    "        house_sponsors.append(next_tag.text)\n",
    "    next_tag = next_tag.next_sibling\n",
    "    if next_tag in heading_tags: break"
   ]
  },
  {
   "cell_type": "code",
   "execution_count": 431,
   "metadata": {},
   "outputs": [
    {
     "name": "stdout",
     "output_type": "stream",
     "text": [
      "{'SB0001': {'short description': 'MINIMUM WAGE/INCOME TAX CREDIT', 'senate sponsors': ['Kimberly A. Lightford', 'Jacqueline Y. Collins', 'Antonio Muñoz', 'Iris Y. Martinez', 'Mattie Hunter', 'Patricia Van Pelt', 'Robert Peters', 'Ann Gillespie', 'Ram Villivalam', 'Omar Aquino', 'Martin A. Sandoval', 'Terry Link', 'Elgie R. Sims, Jr.', 'Toi W. Hutchinson', 'Cristina Castro', 'Emil Jones, III', 'Christopher Belt'], 'house sponsors': ['Will Guzzardi', 'Marcus C. Evans, Jr.', 'Jay Hoffman', 'Delia C. Ramirez', 'Emanuel Chris Welch', 'Jaime M. Andrade, Jr.', 'Aaron M. Ortiz', 'Justin Slaughter', 'Celina Villanueva', 'Sara Feigenholtz', 'Yehiel M. Kalish', 'Thaddeus Jones', 'Anne Stava-Murray', 'Mary E. Flowers', 'Luis Arroyo']}}\n"
     ]
    }
   ],
   "source": [
    "bill_info[bill_number]['house sponsors'] = house_sponsors\n",
    "print(bill_info)"
   ]
  },
  {
   "cell_type": "markdown",
   "metadata": {},
   "source": [
    "Synopsis"
   ]
  },
  {
   "cell_type": "code",
   "execution_count": 432,
   "metadata": {},
   "outputs": [],
   "source": [
    "synopsis_list = []\n",
    "for tag in soup_test.find_all('span', class_ = \"content notranslate\"):\n",
    "    synopsis_list.append(tag.text.strip())\n",
    "synopsis = \"  \".join(synopsis_list)  "
   ]
  },
  {
   "cell_type": "code",
   "execution_count": 433,
   "metadata": {},
   "outputs": [
    {
     "name": "stdout",
     "output_type": "stream",
     "text": [
      "{'SB0001': {'short description': 'MINIMUM WAGE/INCOME TAX CREDIT', 'senate sponsors': ['Kimberly A. Lightford', 'Jacqueline Y. Collins', 'Antonio Muñoz', 'Iris Y. Martinez', 'Mattie Hunter', 'Patricia Van Pelt', 'Robert Peters', 'Ann Gillespie', 'Ram Villivalam', 'Omar Aquino', 'Martin A. Sandoval', 'Terry Link', 'Elgie R. Sims, Jr.', 'Toi W. Hutchinson', 'Cristina Castro', 'Emil Jones, III', 'Christopher Belt'], 'house sponsors': ['Will Guzzardi', 'Marcus C. Evans, Jr.', 'Jay Hoffman', 'Delia C. Ramirez', 'Emanuel Chris Welch', 'Jaime M. Andrade, Jr.', 'Aaron M. Ortiz', 'Justin Slaughter', 'Celina Villanueva', 'Sara Feigenholtz', 'Yehiel M. Kalish', 'Thaddeus Jones', 'Anne Stava-Murray', 'Mary E. Flowers', 'Luis Arroyo'], 'synopsis': 'Amends the Minimum Wage Law. Makes a technical change in a Section concerning the short title.  Replaces everything after the enacting clause. Amends the Illinois Income Tax Act and the Minimum Wage Law. Provides for an increase in the minimum wage and for a credit against withholding payments in relation to the increase. Increases the minimum wage to $9.25 per hour beginning January 1, 2020. Provides for annual increases in the minimum wage culminating in a minimum wage of $15 per hour beginning on January 1, 2025. Provides to employers with 50 or fewer full-time equivalent employees a credit against tax withheld beginning January 1, 2020. Reduces the credit beginning January 1, 2021. Provides employers may claim the credit amount in effect on January 1, 2025 until December 31, 2026 and that employers with no more than 5 employees may claim that credit until December 31, 2027. Authorizes the Department of Labor to perform random audits of employer to ascertain compliance with the Minimum Wage Law. Authorizes a penalty of $100 per employee for failure to maintain required records. Effective immediately.'}}\n"
     ]
    }
   ],
   "source": [
    "bill_info[bill_number]['synopsis'] = synopsis.strip()\n",
    "print(bill_info)"
   ]
  },
  {
   "cell_type": "code",
   "execution_count": 434,
   "metadata": {},
   "outputs": [],
   "source": [
    "t0 = time.time()"
   ]
  },
  {
   "cell_type": "code",
   "execution_count": 435,
   "metadata": {},
   "outputs": [],
   "source": [
    "for link in sbill_links[1:100]:\n",
    "    r_bill = requests.get(link)\n",
    "    html_bill = r_bill.text.encode('iso-8859-1')\n",
    "    soup_bill = bs4.BeautifulSoup(html_bill, \"html5lib\")\n",
    "    \n",
    "    #Bill number\n",
    "    bill_number = soup_bill.title.text.split()[-1]\n",
    "    bill_info[bill_number] = {}\n",
    "    \n",
    "    #Bill description\n",
    "    heading_tags = soup_bill.find_all('span', class_ = \"heading2\")\n",
    "    for tag in heading_tags:\n",
    "        if tag.text.startswith(\"Short Description\"):\n",
    "            description_tag = tag\n",
    "            break\n",
    "    bill_short_descr = description_tag.next.next.next.text\n",
    "    bill_info[bill_number]['short description'] = bill_short_descr\n",
    "    \n",
    "    #Senate sponsors\n",
    "    next_tag = None\n",
    "    for tag in heading_tags:\n",
    "        if tag.text.startswith(\"Senate Sponsors\"):\n",
    "            next_tag = tag.next_sibling.next_sibling\n",
    "            break\n",
    "    senate_sponsors = []\n",
    "    while True:\n",
    "        if next_tag is None: break\n",
    "        if isinstance(next_tag, bs4.element.Tag) and next_tag.has_attr(\"href\"):\n",
    "            senate_sponsors.append(next_tag.text)\n",
    "        next_tag = next_tag.next_sibling\n",
    "        if next_tag in heading_tags: break\n",
    "    bill_info[bill_number]['senate sponsors'] = senate_sponsors\n",
    "    \n",
    "    #House sponsors\n",
    "    next_tag = None\n",
    "    for tag in heading_tags:\n",
    "        if tag.text.startswith(\"House Sponsors\"):\n",
    "            next_tag = tag.next_sibling.next_sibling\n",
    "            break\n",
    "    house_sponsors = []\n",
    "    while True:\n",
    "        if next_tag is None: break\n",
    "        if isinstance(next_tag, bs4.element.Tag) and next_tag.has_attr(\"href\"):\n",
    "            house_sponsors.append(next_tag.text)\n",
    "        next_tag = next_tag.next_sibling\n",
    "        if next_tag in heading_tags: break\n",
    "    bill_info[bill_number]['house sponsors'] = house_sponsors\n",
    "    \n",
    "    #Synopsis\n",
    "    synopsis_list = []\n",
    "    for tag in soup_bill.find_all('span', class_ = \"content notranslate\"):\n",
    "        synopsis_list.append(tag.text.strip())\n",
    "    synopsis = \"  \".join(synopsis_list)\n",
    "    bill_info[bill_number]['synopsis'] = synopsis.strip()\n",
    "delta_t = time.time() - t0    "
   ]
  },
  {
   "cell_type": "markdown",
   "metadata": {},
   "source": [
    "Export the bill info to a json file"
   ]
  },
  {
   "cell_type": "code",
   "execution_count": 439,
   "metadata": {},
   "outputs": [],
   "source": [
    "with open('bill_info.json', 'w') as f:\n",
    "    json.dump(bill_info, f)"
   ]
  },
  {
   "cell_type": "code",
   "execution_count": null,
   "metadata": {},
   "outputs": [],
   "source": []
  }
 ],
 "metadata": {
  "kernelspec": {
   "display_name": "Python (IssuetoImpact)",
   "language": "python",
   "name": "issuetoimpact"
  },
  "language_info": {
   "codemirror_mode": {
    "name": "ipython",
    "version": 3
   },
   "file_extension": ".py",
   "mimetype": "text/x-python",
   "name": "python",
   "nbconvert_exporter": "python",
   "pygments_lexer": "ipython3",
   "version": "3.7.6"
  }
 },
 "nbformat": 4,
 "nbformat_minor": 4
}
